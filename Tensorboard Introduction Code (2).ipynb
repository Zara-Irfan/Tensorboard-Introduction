{
 "cells": [
  {
   "cell_type": "markdown",
   "id": "5fd5b51f-b2cf-4f81-bd51-7e1445ad4d73",
   "metadata": {},
   "source": [
    "# Core Imports to Be Used Throughout the Project"
   ]
  },
  {
   "cell_type": "code",
   "execution_count": 42,
   "id": "9ab987bb-2461-4cf5-bcd4-3c6595299a24",
   "metadata": {},
   "outputs": [],
   "source": [
    "import os\n",
    "import numpy as np\n",
    "import matplotlib.pyplot as plt\n",
    "import seaborn as sns\n",
    "import tensorflow as tf\n",
    "from tensorflow import keras"
   ]
  },
  {
   "cell_type": "markdown",
   "id": "e6254560-e6b3-4107-8551-460277b86523",
   "metadata": {},
   "source": [
    "### Define, Compile, and Train a Simple Neural Network Model"
   ]
  },
  {
   "cell_type": "code",
   "execution_count": 43,
   "id": "e81db502-1c1a-4379-a077-41fdf39fc579",
   "metadata": {},
   "outputs": [],
   "source": [
    "(X_train, y_train), (X_test, y_test) = keras.datasets.mnist.load_data()"
   ]
  },
  {
   "cell_type": "code",
   "execution_count": 44,
   "id": "ec9d453b-da54-4f87-8b2d-b391df1fb115",
   "metadata": {},
   "outputs": [
    {
     "name": "stdout",
     "output_type": "stream",
     "text": [
      "Training samples: 60000, Test samples: 10000\n",
      "Shape of one image: (28, 28)\n"
     ]
    }
   ],
   "source": [
    "print(f\"Training samples: {len(X_train)}, Test samples: {len(X_test)}\")\n",
    "print(f\"Shape of one image: {X_train[0].shape}\")"
   ]
  },
  {
   "cell_type": "code",
   "execution_count": 45,
   "id": "3c2eec46-b397-4b66-870e-57a20468c87f",
   "metadata": {},
   "outputs": [],
   "source": [
    "X_train = X_train / 255.0\n",
    "X_test = X_test / 255.0"
   ]
  },
  {
   "cell_type": "code",
   "execution_count": 46,
   "id": "6c56cc73-3f0d-40f8-ba12-b20c50e0fabf",
   "metadata": {},
   "outputs": [
    {
     "data": {
      "image/png": "[encoded data removed]",
      "text/plain": [
       "<Figure size 640x480 with 1 Axes>"
      ]
     },
     "metadata": {},
     "output_type": "display_data"
    }
   ],
   "source": [
    "plt.imshow(X_train[0], cmap='gray')\n",
    "plt.title(f\"Label: {y_train[0]}\")\n",
    "plt.axis('off')\n",
    "plt.show()"
   ]
  },
  {
   "cell_type": "code",
   "execution_count": 47,
   "id": "c834872a-5a52-4932-b535-db2269d0c9f5",
   "metadata": {},
   "outputs": [],
   "source": [
    "model = keras.Sequential([\n",
    "    keras.layers.Flatten(input_shape=(28, 28)),\n",
    "    keras.layers.Dense(128, activation='relu'),\n",
    "    keras.layers.Dense(10, activation='softmax')\n",
    "])"
   ]
  },
  {
   "cell_type": "code",
   "execution_count": 48,
   "id": "d6821857-bbb3-49d1-9468-d2c68c3a4717",
   "metadata": {},
   "outputs": [],
   "source": [
    "model.compile(\n",
    "    optimizer='adam',\n",
    "    loss='sparse_categorical_crossentropy',\n",
    "    metrics=['accuracy']\n",
    ")"
   ]
  },
  {
   "cell_type": "code",
   "execution_count": 49,
   "id": "bea23de4-ae94-4b0e-88f7-a2d721b17f3e",
   "metadata": {},
   "outputs": [],
   "source": [
    "log_dir = \"logs/run1\"\n",
    "tb_callback = tf.keras.callbacks.TensorBoard(log_dir=log_dir, histogram_freq=1)"
   ]
  },
  {
   "cell_type": "code",
   "execution_count": 50,
   "id": "1d6235ad-3f38-4e96-8a04-02caaa0db6b0",
   "metadata": {},
   "outputs": [
    {
     "name": "stdout",
     "output_type": "stream",
     "text": [
      "Epoch 1/5\n",
      "\u001b[1m1875/1875\u001b[0m \u001b[32m━━━━━━━━━━━━━━━━━━━━\u001b[0m\u001b[37m\u001b[0m \u001b[1m10s\u001b[0m 4ms/step - accuracy: 0.9256 - loss: 0.2615 - val_accuracy: 0.9572 - val_loss: 0.1410\n",
      "Epoch 2/5\n",
      "\u001b[1m1875/1875\u001b[0m \u001b[32m━━━━━━━━━━━━━━━━━━━━\u001b[0m\u001b[37m\u001b[0m \u001b[1m8s\u001b[0m 4ms/step - accuracy: 0.9662 - loss: 0.1146 - val_accuracy: 0.9679 - val_loss: 0.1005\n",
      "Epoch 3/5\n",
      "\u001b[1m1875/1875\u001b[0m \u001b[32m━━━━━━━━━━━━━━━━━━━━\u001b[0m\u001b[37m\u001b[0m \u001b[1m7s\u001b[0m 4ms/step - accuracy: 0.9760 - loss: 0.0799 - val_accuracy: 0.9721 - val_loss: 0.0891\n",
      "Epoch 4/5\n",
      "\u001b[1m1875/1875\u001b[0m \u001b[32m━━━━━━━━━━━━━━━━━━━━\u001b[0m\u001b[37m\u001b[0m \u001b[1m8s\u001b[0m 4ms/step - accuracy: 0.9816 - loss: 0.0599 - val_accuracy: 0.9775 - val_loss: 0.0766\n",
      "Epoch 5/5\n",
      "\u001b[1m1875/1875\u001b[0m \u001b[32m━━━━━━━━━━━━━━━━━━━━\u001b[0m\u001b[37m\u001b[0m \u001b[1m8s\u001b[0m 4ms/step - accuracy: 0.9865 - loss: 0.0449 - val_accuracy: 0.9736 - val_loss: 0.0817\n"
     ]
    },
    {
     "data": {
      "text/plain": [
       "<keras.src.callbacks.history.History at 0x26527481e10>"
      ]
     },
     "execution_count": 50,
     "metadata": {},
     "output_type": "execute_result"
    }
   ],
   "source": [
    "model.fit(X_train, y_train, epochs=5, batch_size=32, validation_data=(X_test, y_test),\n",
    "          callbacks=[tb_callback])"
   ]
  },
  {
   "cell_type": "code",
   "execution_count": 51,
   "id": "0411bfd7-f1fa-4a3e-b167-8e9559c6a6cd",
   "metadata": {},
   "outputs": [
    {
     "name": "stdout",
     "output_type": "stream",
     "text": [
      "Test Accuracy: 97.36%\n"
     ]
    }
   ],
   "source": [
    "test_loss, test_accuracy = model.evaluate(X_test, y_test, verbose=0)\n",
    "print(f\"Test Accuracy: {test_accuracy*100:.2f}%\")"
   ]
  },
  {
   "cell_type": "code",
   "execution_count": 52,
   "id": "0101ad6e-d379-4353-8490-e8219cc2cd66",
   "metadata": {},
   "outputs": [
    {
     "name": "stdout",
     "output_type": "stream",
     "text": [
      "\u001b[1m313/313\u001b[0m \u001b[32m━━━━━━━━━━━━━━━━━━━━\u001b[0m\u001b[37m\u001b[0m \u001b[1m1s\u001b[0m 2ms/step  \n"
     ]
    }
   ],
   "source": [
    "y_predicted = model.predict(X_test)\n",
    "y_predicted_labels = np.argmax(y_predicted, axis=1)"
   ]
  },
  {
   "cell_type": "code",
   "execution_count": 54,
   "id": "6b186de8-1fb1-445a-84d7-264d89dbf50d",
   "metadata": {},
   "outputs": [
    {
     "data": {
      "image/png": "[encoded data removed]",
      "text/plain": [
       "<Figure size 640x480 with 5 Axes>"
      ]
     },
     "metadata": {},
     "output_type": "display_data"
    }
   ],
   "source": [
    "for i in range(5):\n",
    "    plt.subplot(1, 5, i + 1)\n",
    "    plt.imshow(X_test[i], cmap='gray')\n",
    "    plt.title(f\"True: {y_test[i]}\\nPred: {y_predicted_labels[i]}\")\n",
    "    plt.axis('off')\n",
    "plt.tight_layout()\n",
    "plt.show()"
   ]
  },
  {
   "cell_type": "code",
   "execution_count": 56,
   "id": "fa420f7a-7c8a-4afd-b9f9-125fa32769f3",
   "metadata": {},
   "outputs": [],
   "source": [
    "cm = tf.math.confusion_matrix(labels=y_test, predictions=y_predicted_labels)"
   ]
  },
  {
   "cell_type": "code",
   "execution_count": 57,
   "id": "98187389-11b2-46c0-90e4-3fceb6ca5df1",
   "metadata": {},
   "outputs": [
    {
     "data": {
      "image/png": "[encoded data removed]",
      "text/plain": [
       "<Figure size 1000x800 with 2 Axes>"
      ]
     },
     "metadata": {},
     "output_type": "display_data"
    }
   ],
   "source": [
    "plt.figure(figsize=(10, 8))\n",
    "sns.heatmap(cm, annot=True, fmt='d', cmap='Blues')\n",
    "plt.xlabel(\"Predicted\")\n",
    "plt.ylabel(\"True\")\n",
    "plt.title(\"MNIST Confusion Matrix\")\n",
    "plt.show()"
   ]
  },
  {
   "cell_type": "code",
   "execution_count": 58,
   "id": "6c69060b-cda2-4eee-817e-1a8c3cb14329",
   "metadata": {},
   "outputs": [
    {
     "name": "stdout",
     "output_type": "stream",
     "text": [
      "Current working directory: C:\\Users\\muham\n",
      "Logs folder created: ['train', 'validation']\n"
     ]
    }
   ],
   "source": [
    "print(\"Current working directory:\", os.getcwd())\n",
    "if os.path.exists(log_dir):\n",
    "    print(\"Logs folder created:\", os.listdir(log_dir))\n",
    "else:\n",
    "    print(\"Failed to create logs folder\")"
   ]
  },
  {
   "cell_type": "code",
   "execution_count": 60,
   "id": "9cfe8727-d65f-4013-b7af-101a0d92338b",
   "metadata": {},
   "outputs": [
    {
     "data": {
      "text/plain": [
       "Reusing TensorBoard on port 6008 (pid 11148), started 0:27:16 ago. (Use '!kill 11148' to kill it.)"
      ]
     },
     "metadata": {},
     "output_type": "display_data"
    },
    {
     "data": {
      "text/html": [
       "\n",
       "      <iframe id=\"tensorboard-frame-da1901c839c22fb7\" width=\"100%\" height=\"800\" frameborder=\"0\">\n",
       "      </iframe>\n",
       "      <script>\n",
       "        (function() {\n",
       "          const frame = document.getElementById(\"tensorboard-frame-da1901c839c22fb7\");\n",
       "          const url = new URL(\"/\", window.location);\n",
       "          const port = 6008;\n",
       "          if (port) {\n",
       "            url.port = port;\n",
       "          }\n",
       "          frame.src = url;\n",
       "        })();\n",
       "      </script>\n",
       "    "
      ],
      "text/plain": [
       "<IPython.core.display.HTML object>"
      ]
     },
     "metadata": {},
     "output_type": "display_data"
    }
   ],
   "source": [
    "tensorboard --logdir=logs/run1"
   ]
  },
  {
   "cell_type": "code",
   "execution_count": 40,
   "id": "42543126-721d-46f7-a90c-fe0904aa92b9",
   "metadata": {},
   "outputs": [
    {
     "data": {
      "text/plain": [
       "[array([[ 0.07254077,  0.0792677 , -0.03409141, ...,  0.07001598,\n",
       "         -0.0715932 , -0.019909  ],\n",
       "        [-0.06395754,  0.0432797 , -0.05879631, ...,  0.07487573,\n",
       "         -0.0684554 , -0.07887612],\n",
       "        [-0.01227421, -0.04846651, -0.08123209, ..., -0.04689034,\n",
       "          0.07784626,  0.03221911],\n",
       "        ...,\n",
       "        [ 0.06822831,  0.0332296 ,  0.06977806, ..., -0.06673492,\n",
       "          0.0649806 ,  0.00343297],\n",
       "        [-0.08143319, -0.038516  , -0.07104181, ...,  0.04539615,\n",
       "         -0.08087988,  0.01941967],\n",
       "        [ 0.04351057,  0.03646342,  0.07437955, ...,  0.03008882,\n",
       "          0.07755743, -0.05913121]], dtype=float32),\n",
       " array([-3.80495156e-04,  7.12861598e-04,  3.09379713e-04,  0.00000000e+00,\n",
       "         1.82882068e-05,  1.05699594e-03,  0.00000000e+00,  7.00639095e-04,\n",
       "         0.00000000e+00, -1.03758811e-03, -5.76118473e-04, -1.57592032e-04,\n",
       "        -3.27301328e-04,  9.26530338e-05,  6.01570355e-05, -4.56361828e-04,\n",
       "         6.70187874e-04,  1.77604205e-04,  5.33512444e-04,  3.99425335e-06,\n",
       "         0.00000000e+00, -9.76193347e-04, -8.76192935e-04,  7.15645787e-04,\n",
       "         0.00000000e+00, -1.29649707e-04, -3.58302495e-04, -3.22997221e-04,\n",
       "         1.05727289e-04,  1.97947928e-04,  5.25189098e-05,  2.13089399e-04,\n",
       "        -9.71595058e-04, -7.74972141e-04,  9.29471920e-04, -1.66148791e-04,\n",
       "         3.19585670e-04, -6.57187193e-04,  2.36226537e-04,  7.98795896e-04,\n",
       "        -1.53300585e-04, -1.23050972e-03, -9.24877124e-04,  1.05509371e-03,\n",
       "        -1.29346838e-04,  8.49216303e-05, -1.09765539e-03, -8.06674594e-04,\n",
       "        -1.21126621e-04, -2.37745808e-05, -5.08966739e-04, -5.27335214e-04,\n",
       "        -3.29993956e-04,  1.01025158e-03, -3.00945365e-04, -1.35025475e-04,\n",
       "         3.18762002e-04,  0.00000000e+00, -1.64167280e-03,  0.00000000e+00,\n",
       "         1.11120660e-03, -4.54243913e-04,  5.84103516e-04,  2.86813593e-04,\n",
       "         4.62956028e-04, -6.96267001e-04, -2.67233117e-05, -6.89955836e-04,\n",
       "         6.59392681e-05,  7.14015332e-05,  1.20789919e-03,  1.89856117e-04,\n",
       "        -1.19216484e-03, -5.61610330e-04,  3.93331895e-04, -5.09001839e-05,\n",
       "        -1.74255692e-05, -7.40062504e-04, -1.15202085e-04, -5.92998462e-04,\n",
       "        -2.13681487e-04, -5.29783545e-04,  5.83612476e-04, -6.87756983e-05,\n",
       "         1.76159228e-04,  1.49327610e-03, -4.07409170e-05, -3.11274314e-04,\n",
       "        -5.48733049e-04, -3.56585428e-04, -8.75718775e-04, -9.34801239e-04,\n",
       "         3.62224819e-04,  9.06476635e-05, -9.02917745e-05, -4.31906301e-05,\n",
       "        -1.18955970e-04, -4.71477921e-04,  0.00000000e+00, -1.25340273e-04],\n",
       "       dtype=float32),\n",
       " array([[ 1.29239969e-02,  1.98284358e-01, -1.82534888e-01,\n",
       "         -1.99245244e-01,  1.05817571e-01,  8.24569464e-02,\n",
       "         -2.27415562e-02, -9.27359089e-02,  7.80735165e-02,\n",
       "          1.51952565e-01],\n",
       "        [ 9.39418152e-02, -1.53852254e-01, -8.06635991e-02,\n",
       "         -5.05196974e-02, -1.19155958e-01, -9.75724906e-02,\n",
       "          6.25748038e-02, -1.06180906e-01,  1.01438470e-01,\n",
       "          7.43847415e-02],\n",
       "        [-2.14416906e-01,  1.59904361e-01, -6.06715195e-02,\n",
       "          2.25643024e-01,  1.79125085e-01,  1.43164873e-01,\n",
       "         -1.44407898e-01, -1.33999243e-01,  7.72105083e-02,\n",
       "         -3.88372466e-02],\n",
       "        [-2.08439007e-01, -6.25918955e-02, -1.23843744e-01,\n",
       "          7.90349543e-02,  8.76486301e-05, -8.17437619e-02,\n",
       "         -8.58729631e-02, -1.61481276e-01,  6.52911663e-02,\n",
       "         -1.55408412e-01],\n",
       "        [-5.45518287e-03,  6.92988634e-02,  2.08859861e-01,\n",
       "         -5.74899465e-02, -7.80972913e-02,  1.44869074e-01,\n",
       "         -2.13615015e-01, -6.95755407e-02,  2.22262338e-01,\n",
       "          2.20693752e-01],\n",
       "        [ 5.05800992e-02, -2.05741271e-01,  4.83574457e-02,\n",
       "         -2.22809806e-01,  6.58857673e-02, -2.27099680e-03,\n",
       "          2.16611028e-01, -1.75909072e-01,  2.11208537e-01,\n",
       "          1.13661148e-01],\n",
       "        [ 2.28267252e-01, -1.09934658e-02,  5.33876121e-02,\n",
       "          1.46131933e-01, -1.21945135e-01, -9.86538380e-02,\n",
       "         -1.16641760e-01, -1.94918439e-01,  7.77082145e-02,\n",
       "          2.06811637e-01],\n",
       "        [-1.79419070e-01,  1.95053756e-01,  2.08140239e-01,\n",
       "          2.25852415e-01, -1.11095915e-02,  1.63276598e-01,\n",
       "          5.89877777e-02,  9.42501724e-02, -1.67347640e-01,\n",
       "          1.45179003e-01],\n",
       "        [ 2.29618341e-01,  2.22188830e-01, -1.72294497e-01,\n",
       "         -3.03490758e-02, -2.04033077e-01, -8.27488899e-02,\n",
       "          1.30146295e-02, -2.00116962e-01, -1.08469948e-01,\n",
       "         -1.05740279e-01],\n",
       "        [ 5.61007187e-02,  1.10424303e-01,  6.90119267e-02,\n",
       "         -1.50235802e-01,  8.71420354e-02, -1.96712792e-01,\n",
       "         -2.01731727e-01,  8.41707736e-03, -1.10034436e-01,\n",
       "          1.96722746e-01],\n",
       "        [ 2.22528726e-01, -5.40167512e-03, -1.63246647e-01,\n",
       "          7.45006204e-02, -1.67183772e-01,  5.84458932e-02,\n",
       "         -1.31778419e-01,  1.90543637e-01,  1.45205781e-01,\n",
       "         -1.37247471e-02],\n",
       "        [-1.36243701e-01,  2.12211311e-01,  1.71496883e-01,\n",
       "         -1.68363243e-01, -4.96557280e-02,  1.69625040e-02,\n",
       "         -3.43352593e-02,  1.75151840e-01,  1.17471963e-01,\n",
       "          1.85351118e-01],\n",
       "        [-1.50829360e-01,  6.54114783e-02, -1.78745210e-01,\n",
       "         -7.23073855e-02, -1.90229714e-01, -7.67710060e-02,\n",
       "         -7.35271946e-02,  5.40544558e-03, -1.94773257e-01,\n",
       "          3.73968221e-02],\n",
       "        [ 9.58364308e-02, -3.86229232e-02,  6.91548362e-02,\n",
       "         -2.01310948e-01, -8.95023346e-02,  2.16307610e-01,\n",
       "          1.99769124e-01,  5.00968583e-02, -1.69073924e-01,\n",
       "          1.64136603e-01],\n",
       "        [-2.04254627e-01,  2.20720872e-01, -1.67313531e-01,\n",
       "          1.31720826e-01, -1.82628676e-01, -1.04272217e-01,\n",
       "          1.23204798e-01, -5.38520329e-03,  2.20637217e-01,\n",
       "         -1.96857870e-01],\n",
       "        [-2.03487724e-01,  7.66212493e-02, -1.62076652e-02,\n",
       "          1.59380943e-01,  2.09098563e-01,  4.26829234e-02,\n",
       "          4.10745256e-02,  1.79257393e-01, -1.34505972e-01,\n",
       "         -7.91036040e-02],\n",
       "        [ 2.04361424e-01,  1.74954921e-01,  1.37926683e-01,\n",
       "         -2.24367157e-01,  6.19022027e-02, -1.34281591e-01,\n",
       "         -1.00164272e-01, -9.55783278e-02, -5.94013035e-02,\n",
       "         -1.06217928e-01],\n",
       "        [-1.58494189e-01, -2.72706728e-02,  9.49604064e-02,\n",
       "          1.51525199e-01,  2.11325541e-01, -8.90673175e-02,\n",
       "          1.19003974e-01, -1.66539028e-01, -1.25473946e-01,\n",
       "         -4.45953235e-02],\n",
       "        [-6.39847815e-02, -2.56723445e-02, -1.57908231e-01,\n",
       "          4.80341204e-02, -3.64142880e-02,  4.98432554e-02,\n",
       "         -5.65769635e-02, -5.40687852e-02, -1.84122905e-01,\n",
       "          1.06933638e-01],\n",
       "        [-4.36452497e-03, -1.80998534e-01, -9.99874324e-02,\n",
       "          1.27786843e-04,  3.89622562e-02,  2.22264975e-01,\n",
       "          5.17505445e-02,  7.76796937e-02, -2.05543518e-01,\n",
       "          5.28388880e-02],\n",
       "        [-2.33102992e-01, -2.21793801e-02,  8.33706260e-02,\n",
       "         -2.17218101e-01, -1.42510220e-01,  9.50988233e-02,\n",
       "          1.83501571e-01, -1.39484316e-01, -1.29286319e-01,\n",
       "          8.20486248e-02],\n",
       "        [ 1.44671788e-02, -8.56170282e-02,  7.36306421e-03,\n",
       "          2.10585594e-01, -1.80253088e-01,  7.21297115e-02,\n",
       "          8.61063823e-02, -2.17643112e-01, -1.63690820e-01,\n",
       "         -7.32123405e-02],\n",
       "        [ 2.25111187e-01, -6.27586171e-02,  5.87203987e-02,\n",
       "          1.18981212e-01, -9.55616757e-02, -1.13932401e-01,\n",
       "         -1.07080877e-01,  2.23183960e-01, -1.80806592e-01,\n",
       "          3.41057740e-02],\n",
       "        [ 6.08607307e-02, -2.27549970e-01, -2.33481720e-01,\n",
       "          4.81763929e-02,  1.81767374e-01, -1.48259655e-01,\n",
       "          9.36009586e-02,  7.23745227e-02,  1.34338915e-01,\n",
       "         -9.99912322e-02],\n",
       "        [ 1.71329856e-01, -2.43877470e-02,  2.21742094e-01,\n",
       "         -7.02940226e-02, -2.31316030e-01, -1.14226192e-02,\n",
       "         -1.92960590e-01, -6.02738410e-02,  8.87195170e-02,\n",
       "         -8.53967071e-02],\n",
       "        [-7.24638700e-02,  1.00570597e-01, -5.36194555e-02,\n",
       "          5.99990673e-02,  1.36365518e-01,  7.18115121e-02,\n",
       "         -1.71582669e-01, -7.46000409e-02, -4.54186350e-02,\n",
       "         -1.36555836e-01],\n",
       "        [-7.94388447e-03,  8.59367624e-02, -1.14946067e-01,\n",
       "         -2.16764018e-01,  1.85049385e-01,  2.01147139e-01,\n",
       "         -1.63723379e-01, -1.94560736e-01,  1.10021539e-01,\n",
       "          1.62769333e-01],\n",
       "        [ 1.15484662e-01,  6.24947948e-03, -6.44780546e-02,\n",
       "          3.95173877e-02, -1.19712569e-01,  1.94966167e-01,\n",
       "         -2.30183750e-02, -2.96592470e-02, -1.99867878e-02,\n",
       "         -1.57589093e-01],\n",
       "        [ 2.25214288e-01, -7.35373572e-02,  1.94594190e-02,\n",
       "          2.31861658e-02,  8.43579844e-02,  4.14000079e-02,\n",
       "          2.11896136e-01, -3.39339823e-02, -3.08494195e-02,\n",
       "         -1.26770124e-01],\n",
       "        [ 4.12676036e-02,  5.41649647e-02,  2.04054385e-01,\n",
       "         -1.63792342e-01, -2.32227355e-01, -1.37415484e-01,\n",
       "          8.39633718e-02,  7.46169537e-02, -7.12448955e-02,\n",
       "          8.49794969e-02],\n",
       "        [ 4.57275771e-02, -2.96364110e-02, -2.32364535e-01,\n",
       "         -1.72761083e-02, -1.88523188e-01, -7.93977305e-02,\n",
       "         -1.69257179e-01, -4.04924788e-02, -1.34131834e-01,\n",
       "         -1.46845296e-01],\n",
       "        [ 1.34140939e-01,  1.74241751e-01, -9.85446647e-02,\n",
       "          1.53316706e-01, -1.28727451e-01,  1.78940296e-01,\n",
       "          1.04263492e-01,  5.80174848e-02, -1.65974483e-01,\n",
       "         -9.07399580e-02],\n",
       "        [ 1.13385171e-01,  1.25514492e-01,  2.17235878e-01,\n",
       "         -1.64943606e-01, -3.46978963e-03, -1.95075125e-01,\n",
       "          1.23067513e-01, -2.16363326e-01, -2.06914976e-01,\n",
       "         -1.49818555e-01],\n",
       "        [ 1.94138095e-01,  9.79942083e-03, -1.47995902e-02,\n",
       "         -2.26873413e-01, -9.02448818e-02, -1.96098492e-01,\n",
       "          1.52227581e-01, -1.26077622e-01,  3.57815623e-02,\n",
       "         -4.05559391e-02],\n",
       "        [ 2.08464772e-01, -2.59767082e-02, -2.20560312e-01,\n",
       "          1.11104958e-01, -2.65767295e-02,  1.94292143e-01,\n",
       "          1.59896240e-01, -2.49863714e-02, -1.50758624e-01,\n",
       "          1.97863027e-01],\n",
       "        [-3.78717878e-03, -4.59715948e-02,  5.35729006e-02,\n",
       "          2.07573742e-01,  1.55415148e-01,  8.98350105e-02,\n",
       "         -2.29559749e-01, -1.11754693e-01,  9.35795009e-02,\n",
       "         -1.51708610e-02],\n",
       "        [ 2.15845525e-01,  7.80558884e-02, -2.09540308e-01,\n",
       "          7.89949447e-02, -1.33356795e-01, -9.44377556e-02,\n",
       "          2.20834836e-01,  5.61187044e-02,  1.40744299e-01,\n",
       "         -6.25576228e-02],\n",
       "        [ 9.29149538e-02,  1.01606220e-01,  7.96611011e-02,\n",
       "         -1.42693818e-02, -1.32053688e-01,  1.37169007e-02,\n",
       "          1.18783616e-01, -5.91058396e-02, -8.34248662e-02,\n",
       "         -8.18621665e-02],\n",
       "        [ 2.35872105e-01,  1.78530037e-01,  2.11000815e-01,\n",
       "         -1.59193724e-01, -1.27399176e-01,  2.16974154e-01,\n",
       "         -5.63890599e-02, -1.73334971e-01,  8.55995435e-03,\n",
       "          1.59645334e-01],\n",
       "        [-1.60059258e-01, -1.61633641e-01, -1.30006209e-01,\n",
       "          2.02584252e-01, -2.17595428e-01,  1.80969596e-01,\n",
       "         -2.15503395e-01,  1.57043934e-01, -5.16749695e-02,\n",
       "          1.24314673e-01],\n",
       "        [-2.75327056e-03,  7.92271048e-02, -1.73316494e-01,\n",
       "         -2.65871920e-02, -1.76291704e-01,  2.14863047e-01,\n",
       "         -1.06213447e-02,  9.23586860e-02, -3.09635443e-03,\n",
       "         -1.70054644e-01],\n",
       "        [ 2.24433511e-01,  5.16157597e-02,  6.97836429e-02,\n",
       "          2.82474607e-03,  1.45402610e-01,  1.87866345e-01,\n",
       "          4.97351997e-02,  1.61926523e-01, -1.43239483e-01,\n",
       "         -1.67587206e-01],\n",
       "        [ 1.69699974e-02,  3.06636859e-02, -2.34291963e-02,\n",
       "         -2.15097249e-01,  1.74614802e-01,  4.06121425e-02,\n",
       "         -2.29880169e-01, -2.14549989e-01, -1.60090342e-01,\n",
       "         -2.92561594e-02],\n",
       "        [ 1.13428846e-01, -2.26831540e-01, -8.52744505e-02,\n",
       "          8.85561332e-02, -1.42733734e-02,  2.06044875e-02,\n",
       "          8.32842290e-03, -4.71140593e-02, -7.37978891e-02,\n",
       "         -3.66250500e-02],\n",
       "        [-3.57769057e-02, -8.08406249e-03, -2.17524141e-01,\n",
       "          9.47917551e-02, -2.13248596e-01, -2.15364277e-01,\n",
       "          2.79605091e-02,  6.08280301e-02, -1.35996401e-01,\n",
       "         -1.20285340e-01],\n",
       "        [ 1.77119941e-01, -1.99912146e-01, -9.25669330e-04,\n",
       "          1.64585501e-01,  4.82610762e-02,  1.79964721e-01,\n",
       "         -2.03100905e-01, -3.31087783e-02, -2.30107531e-01,\n",
       "         -6.03326745e-02],\n",
       "        [-4.27113194e-03, -3.95328365e-02,  1.53604984e-01,\n",
       "          4.04736847e-02, -6.53652921e-02,  1.56291395e-01,\n",
       "          9.88099650e-02,  2.57973727e-02, -1.70767412e-01,\n",
       "         -1.15951419e-01],\n",
       "        [ 2.94776745e-02,  3.87274846e-02,  1.02235638e-01,\n",
       "         -1.18992232e-01,  1.09359346e-01,  1.47625208e-01,\n",
       "          2.15068646e-02, -4.97013293e-02,  5.05715013e-02,\n",
       "         -1.85234234e-01],\n",
       "        [-5.58894575e-02,  8.31191689e-02, -7.30808452e-02,\n",
       "          7.25160018e-02, -2.25068271e-01, -5.60738426e-03,\n",
       "          1.72811687e-01,  3.32560018e-02, -1.60077035e-01,\n",
       "         -1.83542550e-01],\n",
       "        [ 9.49687585e-02,  7.75769129e-02, -1.87833551e-02,\n",
       "         -1.17926225e-01,  1.61442719e-02, -3.19214468e-03,\n",
       "          5.76281957e-02,  6.44526333e-02, -1.90998495e-01,\n",
       "          1.56744644e-01],\n",
       "        [-1.40789017e-01, -1.02816157e-01,  6.22708052e-02,\n",
       "          8.12527239e-02, -5.51143959e-02, -6.13361038e-03,\n",
       "          1.87190279e-01, -6.50731698e-02,  1.47892823e-02,\n",
       "         -1.90240845e-01],\n",
       "        [ 2.02754632e-01,  2.08950981e-01,  1.28938466e-01,\n",
       "          1.52563825e-01, -8.92755985e-02, -4.18352485e-02,\n",
       "         -1.60375535e-01,  1.56627446e-01,  1.73512787e-01,\n",
       "          6.33651717e-03],\n",
       "        [-4.38356400e-02, -2.06454754e-01, -8.32319632e-02,\n",
       "         -1.38998134e-02, -2.03346148e-01, -2.07474977e-01,\n",
       "         -1.51506931e-01,  1.88423991e-01, -8.02381635e-02,\n",
       "         -8.16567615e-02],\n",
       "        [ 1.24083571e-01, -1.03348099e-01,  7.21758679e-02,\n",
       "         -1.51387960e-01,  2.21820801e-01,  1.77331105e-01,\n",
       "          2.32421517e-01, -1.94624171e-01,  1.83670670e-01,\n",
       "         -1.28919348e-01],\n",
       "        [-8.26421529e-02, -1.19647801e-01,  1.84317827e-01,\n",
       "          3.55450921e-02,  1.57743096e-02, -2.14833066e-01,\n",
       "          2.30538800e-01, -1.79777652e-01, -1.58806220e-01,\n",
       "         -1.86235175e-01],\n",
       "        [-2.07933918e-01,  4.70265225e-02, -4.24545258e-02,\n",
       "          5.91808259e-02, -5.42965382e-02,  9.24514309e-02,\n",
       "          1.77380800e-01, -2.84228697e-02,  4.82906513e-02,\n",
       "         -2.01821938e-01],\n",
       "        [ 1.98861182e-01,  1.14305634e-02,  8.27770904e-02,\n",
       "          2.32944429e-01,  9.91340801e-02, -5.63907772e-02,\n",
       "          9.05898064e-02, -2.02224970e-01,  2.26543382e-01,\n",
       "          1.23891467e-02],\n",
       "        [-2.07741812e-01,  1.01231992e-01,  2.32549131e-01,\n",
       "          4.25211787e-02, -6.12118840e-03, -9.95875150e-02,\n",
       "         -3.29867005e-04, -1.72787338e-01, -2.05497295e-01,\n",
       "          1.01243079e-01],\n",
       "        [ 4.24666815e-02,  9.85880643e-02,  7.22765476e-02,\n",
       "         -1.38555452e-01, -5.58484420e-02,  2.17290491e-01,\n",
       "          1.07043311e-01,  1.21610686e-01, -2.26496264e-01,\n",
       "         -5.09526171e-02],\n",
       "        [ 1.53498679e-01, -4.80141491e-02, -4.25452292e-02,\n",
       "         -1.46546304e-01,  6.44774735e-02, -2.16799408e-01,\n",
       "          2.31734365e-01, -9.78930444e-02,  3.18008363e-02,\n",
       "          3.80364954e-02],\n",
       "        [ 1.96671858e-01,  7.53440782e-02, -1.97136387e-01,\n",
       "          1.42007709e-01,  5.34164868e-02, -1.67931646e-01,\n",
       "         -6.26235874e-03, -1.14868149e-01,  1.82905287e-01,\n",
       "          1.70161158e-01],\n",
       "        [ 1.70094058e-01, -1.48375556e-01,  1.66093111e-01,\n",
       "         -1.77390903e-01, -2.09533811e-01, -2.75473166e-02,\n",
       "         -2.28055015e-01, -9.22825187e-02,  1.02361955e-01,\n",
       "         -8.33095685e-02],\n",
       "        [ 1.17525592e-01,  1.21815711e-01, -1.54934198e-01,\n",
       "          1.62519366e-01,  1.92405194e-01,  4.46773767e-02,\n",
       "         -3.68363294e-03,  4.66953553e-02, -2.25869462e-01,\n",
       "          1.00869156e-01],\n",
       "        [-2.42024884e-02, -6.13324456e-02, -1.02597535e-01,\n",
       "         -2.30527937e-01, -1.42319217e-01, -5.56630343e-02,\n",
       "         -8.82317126e-02, -1.00429811e-01,  1.23710372e-01,\n",
       "         -8.09721798e-02],\n",
       "        [ 1.85942024e-01, -1.65994897e-01, -1.69048771e-01,\n",
       "          1.03093848e-01,  2.30501398e-01, -2.07461074e-01,\n",
       "         -2.01238766e-01, -2.15309575e-01, -1.54073328e-01,\n",
       "         -1.85959354e-01],\n",
       "        [-1.35293398e-02, -8.01750422e-02,  1.78429380e-01,\n",
       "          1.16275281e-01, -2.06354454e-01, -6.55274242e-02,\n",
       "          1.74623355e-01, -7.55931437e-02, -1.51655212e-01,\n",
       "         -2.23730162e-01],\n",
       "        [-1.95931904e-02, -2.20881328e-01, -9.61605608e-02,\n",
       "          1.52716368e-01,  1.94672883e-01,  4.40578759e-02,\n",
       "         -1.33152291e-01,  8.69714022e-02, -1.99443117e-01,\n",
       "         -1.35286182e-01],\n",
       "        [ 2.32853323e-01, -3.29364352e-02, -1.09753676e-01,\n",
       "          8.59956965e-02,  1.43332660e-01, -2.14715630e-01,\n",
       "         -1.52877241e-01,  8.03211927e-02, -2.00731888e-01,\n",
       "          1.04551435e-01],\n",
       "        [ 1.71050340e-01,  3.93448547e-02, -1.00926034e-01,\n",
       "         -1.00482613e-01, -1.32867396e-02,  1.50804892e-01,\n",
       "         -9.48741660e-02,  1.30989060e-01,  1.85137495e-01,\n",
       "          1.85420468e-01],\n",
       "        [-2.28995122e-02,  1.75044723e-02, -4.47149994e-03,\n",
       "          2.02093720e-01,  8.60800073e-02,  3.30462158e-02,\n",
       "          6.62823848e-04, -2.80391276e-02, -1.71186980e-02,\n",
       "         -9.30358693e-02],\n",
       "        [ 6.64801896e-02,  1.62796676e-01,  9.03071761e-02,\n",
       "         -6.43276498e-02, -1.86777532e-01, -1.91987872e-01,\n",
       "         -1.82431772e-01, -1.75023466e-01,  1.75745171e-02,\n",
       "          1.41143590e-01],\n",
       "        [-9.18790475e-02, -5.53814620e-02,  9.20191128e-03,\n",
       "          2.21199349e-01, -2.19000369e-01, -1.63774535e-01,\n",
       "         -1.04428202e-01,  1.41367510e-01, -9.77926701e-02,\n",
       "          2.06589475e-01],\n",
       "        [-2.21609861e-01,  3.11388355e-02,  4.96586859e-02,\n",
       "          1.17320307e-02, -7.17354417e-02,  1.58877119e-01,\n",
       "         -1.38516128e-01, -1.03833668e-01, -1.81573644e-01,\n",
       "          1.20199077e-01],\n",
       "        [ 1.71900168e-02, -1.74445555e-01,  1.71759129e-01,\n",
       "         -1.01749703e-01, -1.53869554e-01,  2.31757581e-01,\n",
       "          6.41469657e-02,  1.49340853e-01, -1.14798389e-01,\n",
       "         -7.37006292e-02],\n",
       "        [-1.62569731e-01, -1.21567279e-01, -7.59049803e-02,\n",
       "          1.31975510e-04, -2.15195149e-01, -3.63753550e-02,\n",
       "         -8.09619799e-02, -1.76698342e-01,  1.02125533e-01,\n",
       "         -1.56122506e-01],\n",
       "        [-1.48780629e-01,  8.50902945e-02, -1.00180320e-02,\n",
       "         -5.38515076e-02,  1.51542723e-01, -8.44002962e-02,\n",
       "         -2.31280804e-01, -1.57875851e-01,  2.25599930e-01,\n",
       "          1.21443264e-01],\n",
       "        [ 1.88292637e-01,  1.45070165e-01, -1.70832068e-01,\n",
       "          1.14485964e-01,  6.04138337e-02, -3.75846401e-02,\n",
       "          5.58293611e-02,  3.96362767e-02, -1.77124124e-02,\n",
       "         -1.21890917e-01],\n",
       "        [-1.73181519e-01,  2.27945536e-01,  5.65546453e-02,\n",
       "         -1.33046493e-01,  1.79905236e-01,  1.57055020e-01,\n",
       "         -2.21628830e-01, -3.17379162e-02, -6.96542040e-02,\n",
       "          1.14895687e-01],\n",
       "        [ 6.98784217e-02,  1.93994418e-01,  1.70047447e-01,\n",
       "          1.80399679e-02,  1.89293638e-01, -8.54624882e-02,\n",
       "          1.57805547e-01,  1.54290214e-01, -1.94070533e-01,\n",
       "          1.11746639e-01],\n",
       "        [ 1.20501615e-01,  2.30161145e-01, -4.28806059e-02,\n",
       "         -1.11901373e-01, -4.57827859e-02, -6.04739077e-02,\n",
       "         -6.11854950e-03,  3.16356905e-02, -5.87299615e-02,\n",
       "          1.81748927e-01],\n",
       "        [ 1.34636611e-01,  2.31279448e-01,  2.56380625e-02,\n",
       "          2.15387885e-02, -1.88291073e-01, -1.30119473e-01,\n",
       "          1.88385069e-01, -1.65512487e-01,  1.63619101e-01,\n",
       "         -1.28914803e-01],\n",
       "        [ 2.01151311e-01,  1.87841699e-01,  2.19250739e-01,\n",
       "          6.00457564e-03,  1.80359796e-01, -1.82178363e-01,\n",
       "          5.64277023e-02, -1.73606426e-02, -7.60624781e-02,\n",
       "          1.28399476e-01],\n",
       "        [-1.38576645e-02, -4.87556942e-02, -1.73136756e-01,\n",
       "          1.12080678e-01,  5.20700514e-02, -8.29335228e-02,\n",
       "          1.18149500e-02,  1.24416336e-01,  2.19114557e-01,\n",
       "         -1.13442298e-02],\n",
       "        [-1.32762909e-01,  8.31370184e-04,  7.98676312e-02,\n",
       "          1.27844274e-01,  7.96140507e-02,  1.18209518e-01,\n",
       "          1.69436365e-01,  2.27573141e-01,  2.29807675e-01,\n",
       "         -6.99851140e-02],\n",
       "        [-7.72558451e-02,  2.18706936e-01, -2.08950322e-02,\n",
       "          9.25870240e-02,  1.36809871e-01, -4.56045121e-02,\n",
       "          9.68416408e-02, -1.44888893e-01, -8.46438482e-02,\n",
       "         -6.68140501e-02],\n",
       "        [ 9.23158005e-02, -2.12314397e-01, -1.95874780e-01,\n",
       "         -1.57507300e-01, -3.06046214e-02,  1.28044516e-01,\n",
       "         -4.65289354e-02, -6.55299127e-02, -2.08505005e-01,\n",
       "          1.42444029e-01],\n",
       "        [ 1.76603138e-01, -6.11768477e-02,  2.27293193e-01,\n",
       "         -1.26602829e-01, -1.74744487e-01,  4.67043631e-02,\n",
       "         -1.59098178e-01,  5.74863590e-02, -9.48620364e-02,\n",
       "         -9.52320620e-02],\n",
       "        [ 4.80899774e-02, -1.08878344e-01,  2.10775241e-01,\n",
       "          1.86257660e-01,  1.74785867e-01,  5.60474098e-02,\n",
       "          5.49086891e-02, -3.17606665e-02,  1.93120420e-01,\n",
       "          6.83228523e-02],\n",
       "        [ 2.07485035e-01,  2.69316528e-02, -1.12934142e-01,\n",
       "          1.95599012e-02,  1.95102438e-01, -1.39437407e-01,\n",
       "         -4.96973842e-02,  1.76314995e-01, -2.27523029e-01,\n",
       "          2.24031746e-01],\n",
       "        [-1.58924326e-01,  1.62839983e-02,  1.80263177e-01,\n",
       "          1.70635208e-01, -9.31425095e-02,  1.79883778e-01,\n",
       "          1.22202478e-01,  1.71876326e-01, -2.30428696e-01,\n",
       "          1.03605658e-01],\n",
       "        [-2.12282255e-01, -2.04916775e-01,  1.19724385e-01,\n",
       "         -2.30679557e-01, -7.21772164e-02, -1.41630441e-01,\n",
       "          7.61278532e-03,  1.30486220e-01,  9.54981744e-02,\n",
       "          4.40907292e-02],\n",
       "        [-2.15860292e-01,  1.31031647e-01,  1.54499799e-01,\n",
       "         -1.47571579e-01, -7.57775269e-03, -1.52248353e-01,\n",
       "         -1.86478615e-01, -1.31544173e-01, -2.00865075e-01,\n",
       "          2.05167204e-01],\n",
       "        [ 2.14117274e-01, -3.97356190e-02,  1.69192046e-01,\n",
       "          1.99952036e-01,  1.26600683e-01, -1.07605353e-01,\n",
       "          1.90949112e-01, -1.32317930e-01, -1.70034654e-02,\n",
       "         -5.80973625e-02],\n",
       "        [ 1.52423427e-01,  7.22271502e-02, -4.90484051e-02,\n",
       "          1.14206215e-02, -5.09919748e-02,  7.54605159e-02,\n",
       "         -4.38195542e-02, -1.34866834e-01, -1.61066741e-01,\n",
       "          5.18406183e-02],\n",
       "        [-5.81930764e-02, -4.78957146e-02,  1.17431194e-01,\n",
       "         -1.48364743e-02, -1.33150354e-01,  2.07772270e-01,\n",
       "         -3.04660406e-02, -8.13382640e-02, -4.99569401e-02,\n",
       "          1.11119464e-01],\n",
       "        [-1.18061341e-01, -3.47885825e-02,  3.47637641e-03,\n",
       "          3.29532139e-02,  1.39292955e-01, -1.13870353e-01,\n",
       "         -2.06755437e-02,  1.25896797e-01, -1.22782379e-01,\n",
       "          1.37657374e-01],\n",
       "        [-1.97228938e-02, -1.19879253e-01, -1.23930700e-01,\n",
       "          1.33208409e-01,  1.51141152e-01,  1.41935676e-01,\n",
       "         -1.25106210e-02, -1.83292478e-01,  2.16931984e-01,\n",
       "         -2.05270544e-01],\n",
       "        [ 1.06838390e-01, -4.24032565e-03,  1.18489906e-01,\n",
       "         -1.14431188e-01, -1.43765762e-01,  3.76882665e-02,\n",
       "          3.62358950e-02,  2.52846908e-02, -1.17509980e-02,\n",
       "          1.69674575e-01],\n",
       "        [ 6.48239255e-03,  1.24310642e-01, -3.34675163e-02,\n",
       "          2.23909199e-01,  9.06573236e-02,  1.15396142e-01,\n",
       "         -1.72317266e-01,  6.77339137e-02, -6.31960630e-02,\n",
       "         -1.43663973e-01],\n",
       "        [-3.80724557e-02, -4.37752604e-02, -4.19790782e-02,\n",
       "          7.70659149e-02,  1.25172675e-01, -5.18680364e-02,\n",
       "         -8.47930238e-02,  2.66397605e-04,  1.72728240e-01,\n",
       "         -6.83051199e-02]], dtype=float32),\n",
       " array([ 4.9528200e-05, -2.3296843e-03, -2.0763692e-03,  2.4211798e-03,\n",
       "         1.0169556e-03,  1.0927732e-04,  2.5911792e-04, -2.7412907e-03,\n",
       "         1.6726267e-03,  1.6186598e-03], dtype=float32)]"
      ]
     },
     "execution_count": 40,
     "metadata": {},
     "output_type": "execute_result"
    }
   ],
   "source": [
    "model.get_weights()"
   ]
  },
  {
   "cell_type": "code",
   "execution_count": null,
   "id": "c6742b9d-783a-4485-8be8-42a822496a0e",
   "metadata": {},
   "outputs": [],
   "source": []
  }
 ],
 "metadata": {
  "kernelspec": {
   "display_name": "Python 3 (ipykernel)",
   "language": "python",
   "name": "python3"
  },
  "language_info": {
   "codemirror_mode": {
    "name": "ipython",
    "version": 3
   },
   "file_extension": ".py",
   "mimetype": "text/x-python",
   "name": "python",
   "nbconvert_exporter": "python",
   "pygments_lexer": "ipython3",
   "version": "3.13.5"
  }
 },
 "nbformat": 4,
 "nbformat_minor": 5
}
